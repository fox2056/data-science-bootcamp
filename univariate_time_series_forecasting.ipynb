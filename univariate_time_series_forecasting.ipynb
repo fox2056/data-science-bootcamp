{
  "nbformat": 4,
  "nbformat_minor": 0,
  "metadata": {
    "colab": {
      "provenance": [],
      "authorship_tag": "ABX9TyNzxt5Pz7U/4uGPMgVz76K/",
      "include_colab_link": true
    },
    "kernelspec": {
      "name": "python3",
      "display_name": "Python 3"
    },
    "language_info": {
      "name": "python"
    }
  },
  "cells": [
    {
      "cell_type": "markdown",
      "metadata": {
        "id": "view-in-github",
        "colab_type": "text"
      },
      "source": [
        "<a href=\"https://colab.research.google.com/github/fox2056/data-science-bootcamp/blob/main/univariate_time_series_forecasting.ipynb\" target=\"_parent\"><img src=\"https://colab.research.google.com/assets/colab-badge.svg\" alt=\"Open In Colab\"/></a>"
      ]
    },
    {
      "cell_type": "code",
      "source": [
        "!pip install numpy==1.26.3"
      ],
      "metadata": {
        "colab": {
          "base_uri": "https://localhost:8080/"
        },
        "id": "RZ-EDQ1dbvED",
        "outputId": "3c484b84-5c86-4996-a67d-0223c205f75d"
      },
      "execution_count": 1,
      "outputs": [
        {
          "output_type": "stream",
          "name": "stdout",
          "text": [
            "Requirement already satisfied: numpy==1.26.3 in /usr/local/lib/python3.12/dist-packages (1.26.3)\n"
          ]
        }
      ]
    },
    {
      "cell_type": "code",
      "source": [
        "import numpy as np\n",
        "import pandas as pd"
      ],
      "metadata": {
        "id": "6mIGJOjgbyTA"
      },
      "execution_count": 2,
      "outputs": []
    },
    {
      "cell_type": "code",
      "source": [
        "series = pd.read_csv(\n",
        "    '/content/SolarTimeSeriesData.csv',\n",
        "    parse_dates =['Datetime'],\n",
        "    index_col='Datetime')['Incoming Solar']"
      ],
      "metadata": {
        "id": "T5a23tdqb73m"
      },
      "execution_count": 3,
      "outputs": []
    },
    {
      "cell_type": "code",
      "source": [
        "series[9:20]"
      ],
      "metadata": {
        "colab": {
          "base_uri": "https://localhost:8080/",
          "height": 460
        },
        "id": "xMuiwoaLcQ7w",
        "outputId": "22f93423-c723-42ba-96f1-bbc611e98c55"
      },
      "execution_count": 4,
      "outputs": [
        {
          "output_type": "execute_result",
          "data": {
            "text/plain": [
              "Datetime\n",
              "2007-10-01 09:00:00     35.4\n",
              "2007-10-01 10:00:00     63.8\n",
              "2007-10-01 11:00:00     99.4\n",
              "2007-10-01 12:00:00    174.5\n",
              "2007-10-01 13:00:00    157.9\n",
              "2007-10-01 14:00:00    345.8\n",
              "2007-10-01 15:00:00    329.8\n",
              "2007-10-01 16:00:00    114.6\n",
              "2007-10-01 17:00:00     29.9\n",
              "2007-10-01 18:00:00     10.9\n",
              "2007-10-01 19:00:00      0.0\n",
              "Name: Incoming Solar, dtype: float64"
            ],
            "text/html": [
              "<div>\n",
              "<style scoped>\n",
              "    .dataframe tbody tr th:only-of-type {\n",
              "        vertical-align: middle;\n",
              "    }\n",
              "\n",
              "    .dataframe tbody tr th {\n",
              "        vertical-align: top;\n",
              "    }\n",
              "\n",
              "    .dataframe thead th {\n",
              "        text-align: right;\n",
              "    }\n",
              "</style>\n",
              "<table border=\"1\" class=\"dataframe\">\n",
              "  <thead>\n",
              "    <tr style=\"text-align: right;\">\n",
              "      <th></th>\n",
              "      <th>Incoming Solar</th>\n",
              "    </tr>\n",
              "    <tr>\n",
              "      <th>Datetime</th>\n",
              "      <th></th>\n",
              "    </tr>\n",
              "  </thead>\n",
              "  <tbody>\n",
              "    <tr>\n",
              "      <th>2007-10-01 09:00:00</th>\n",
              "      <td>35.4</td>\n",
              "    </tr>\n",
              "    <tr>\n",
              "      <th>2007-10-01 10:00:00</th>\n",
              "      <td>63.8</td>\n",
              "    </tr>\n",
              "    <tr>\n",
              "      <th>2007-10-01 11:00:00</th>\n",
              "      <td>99.4</td>\n",
              "    </tr>\n",
              "    <tr>\n",
              "      <th>2007-10-01 12:00:00</th>\n",
              "      <td>174.5</td>\n",
              "    </tr>\n",
              "    <tr>\n",
              "      <th>2007-10-01 13:00:00</th>\n",
              "      <td>157.9</td>\n",
              "    </tr>\n",
              "    <tr>\n",
              "      <th>2007-10-01 14:00:00</th>\n",
              "      <td>345.8</td>\n",
              "    </tr>\n",
              "    <tr>\n",
              "      <th>2007-10-01 15:00:00</th>\n",
              "      <td>329.8</td>\n",
              "    </tr>\n",
              "    <tr>\n",
              "      <th>2007-10-01 16:00:00</th>\n",
              "      <td>114.6</td>\n",
              "    </tr>\n",
              "    <tr>\n",
              "      <th>2007-10-01 17:00:00</th>\n",
              "      <td>29.9</td>\n",
              "    </tr>\n",
              "    <tr>\n",
              "      <th>2007-10-01 18:00:00</th>\n",
              "      <td>10.9</td>\n",
              "    </tr>\n",
              "    <tr>\n",
              "      <th>2007-10-01 19:00:00</th>\n",
              "      <td>0.0</td>\n",
              "    </tr>\n",
              "  </tbody>\n",
              "</table>\n",
              "</div><br><label><b>dtype:</b> float64</label>"
            ]
          },
          "metadata": {},
          "execution_count": 4
        }
      ]
    },
    {
      "cell_type": "code",
      "source": [
        "series.shift(1)"
      ],
      "metadata": {
        "colab": {
          "base_uri": "https://localhost:8080/",
          "height": 490
        },
        "id": "xyfKC_FicV4_",
        "outputId": "3797f78d-8739-4bc8-ab35-b976fe982773"
      },
      "execution_count": 5,
      "outputs": [
        {
          "output_type": "execute_result",
          "data": {
            "text/plain": [
              "Datetime\n",
              "2007-10-01 00:00:00    NaN\n",
              "2007-10-01 01:00:00    0.0\n",
              "2007-10-01 02:00:00    0.0\n",
              "2007-10-01 03:00:00    0.0\n",
              "2007-10-01 04:00:00    0.0\n",
              "                      ... \n",
              "2013-09-30 19:00:00    1.7\n",
              "2013-09-30 20:00:00    0.0\n",
              "2013-09-30 21:00:00    0.0\n",
              "2013-09-30 22:00:00    0.0\n",
              "2013-09-30 23:00:00    0.0\n",
              "Name: Incoming Solar, Length: 52608, dtype: float64"
            ],
            "text/html": [
              "<div>\n",
              "<style scoped>\n",
              "    .dataframe tbody tr th:only-of-type {\n",
              "        vertical-align: middle;\n",
              "    }\n",
              "\n",
              "    .dataframe tbody tr th {\n",
              "        vertical-align: top;\n",
              "    }\n",
              "\n",
              "    .dataframe thead th {\n",
              "        text-align: right;\n",
              "    }\n",
              "</style>\n",
              "<table border=\"1\" class=\"dataframe\">\n",
              "  <thead>\n",
              "    <tr style=\"text-align: right;\">\n",
              "      <th></th>\n",
              "      <th>Incoming Solar</th>\n",
              "    </tr>\n",
              "    <tr>\n",
              "      <th>Datetime</th>\n",
              "      <th></th>\n",
              "    </tr>\n",
              "  </thead>\n",
              "  <tbody>\n",
              "    <tr>\n",
              "      <th>2007-10-01 00:00:00</th>\n",
              "      <td>NaN</td>\n",
              "    </tr>\n",
              "    <tr>\n",
              "      <th>2007-10-01 01:00:00</th>\n",
              "      <td>0.0</td>\n",
              "    </tr>\n",
              "    <tr>\n",
              "      <th>2007-10-01 02:00:00</th>\n",
              "      <td>0.0</td>\n",
              "    </tr>\n",
              "    <tr>\n",
              "      <th>2007-10-01 03:00:00</th>\n",
              "      <td>0.0</td>\n",
              "    </tr>\n",
              "    <tr>\n",
              "      <th>2007-10-01 04:00:00</th>\n",
              "      <td>0.0</td>\n",
              "    </tr>\n",
              "    <tr>\n",
              "      <th>...</th>\n",
              "      <td>...</td>\n",
              "    </tr>\n",
              "    <tr>\n",
              "      <th>2013-09-30 19:00:00</th>\n",
              "      <td>1.7</td>\n",
              "    </tr>\n",
              "    <tr>\n",
              "      <th>2013-09-30 20:00:00</th>\n",
              "      <td>0.0</td>\n",
              "    </tr>\n",
              "    <tr>\n",
              "      <th>2013-09-30 21:00:00</th>\n",
              "      <td>0.0</td>\n",
              "    </tr>\n",
              "    <tr>\n",
              "      <th>2013-09-30 22:00:00</th>\n",
              "      <td>0.0</td>\n",
              "    </tr>\n",
              "    <tr>\n",
              "      <th>2013-09-30 23:00:00</th>\n",
              "      <td>0.0</td>\n",
              "    </tr>\n",
              "  </tbody>\n",
              "</table>\n",
              "<p>52608 rows × 1 columns</p>\n",
              "</div><br><label><b>dtype:</b> float64</label>"
            ]
          },
          "metadata": {},
          "execution_count": 5
        }
      ]
    },
    {
      "cell_type": "code",
      "source": [
        "m = 12\n",
        "series.shift(m)"
      ],
      "metadata": {
        "colab": {
          "base_uri": "https://localhost:8080/",
          "height": 490
        },
        "id": "PDJ36FIJciVl",
        "outputId": "51b2004c-3555-4816-d6dc-02a685bdbe53"
      },
      "execution_count": 6,
      "outputs": [
        {
          "output_type": "execute_result",
          "data": {
            "text/plain": [
              "Datetime\n",
              "2007-10-01 00:00:00      NaN\n",
              "2007-10-01 01:00:00      NaN\n",
              "2007-10-01 02:00:00      NaN\n",
              "2007-10-01 03:00:00      NaN\n",
              "2007-10-01 04:00:00      NaN\n",
              "                       ...  \n",
              "2013-09-30 19:00:00     17.6\n",
              "2013-09-30 20:00:00     92.0\n",
              "2013-09-30 21:00:00    163.3\n",
              "2013-09-30 22:00:00    207.3\n",
              "2013-09-30 23:00:00    204.5\n",
              "Name: Incoming Solar, Length: 52608, dtype: float64"
            ],
            "text/html": [
              "<div>\n",
              "<style scoped>\n",
              "    .dataframe tbody tr th:only-of-type {\n",
              "        vertical-align: middle;\n",
              "    }\n",
              "\n",
              "    .dataframe tbody tr th {\n",
              "        vertical-align: top;\n",
              "    }\n",
              "\n",
              "    .dataframe thead th {\n",
              "        text-align: right;\n",
              "    }\n",
              "</style>\n",
              "<table border=\"1\" class=\"dataframe\">\n",
              "  <thead>\n",
              "    <tr style=\"text-align: right;\">\n",
              "      <th></th>\n",
              "      <th>Incoming Solar</th>\n",
              "    </tr>\n",
              "    <tr>\n",
              "      <th>Datetime</th>\n",
              "      <th></th>\n",
              "    </tr>\n",
              "  </thead>\n",
              "  <tbody>\n",
              "    <tr>\n",
              "      <th>2007-10-01 00:00:00</th>\n",
              "      <td>NaN</td>\n",
              "    </tr>\n",
              "    <tr>\n",
              "      <th>2007-10-01 01:00:00</th>\n",
              "      <td>NaN</td>\n",
              "    </tr>\n",
              "    <tr>\n",
              "      <th>2007-10-01 02:00:00</th>\n",
              "      <td>NaN</td>\n",
              "    </tr>\n",
              "    <tr>\n",
              "      <th>2007-10-01 03:00:00</th>\n",
              "      <td>NaN</td>\n",
              "    </tr>\n",
              "    <tr>\n",
              "      <th>2007-10-01 04:00:00</th>\n",
              "      <td>NaN</td>\n",
              "    </tr>\n",
              "    <tr>\n",
              "      <th>...</th>\n",
              "      <td>...</td>\n",
              "    </tr>\n",
              "    <tr>\n",
              "      <th>2013-09-30 19:00:00</th>\n",
              "      <td>17.6</td>\n",
              "    </tr>\n",
              "    <tr>\n",
              "      <th>2013-09-30 20:00:00</th>\n",
              "      <td>92.0</td>\n",
              "    </tr>\n",
              "    <tr>\n",
              "      <th>2013-09-30 21:00:00</th>\n",
              "      <td>163.3</td>\n",
              "    </tr>\n",
              "    <tr>\n",
              "      <th>2013-09-30 22:00:00</th>\n",
              "      <td>207.3</td>\n",
              "    </tr>\n",
              "    <tr>\n",
              "      <th>2013-09-30 23:00:00</th>\n",
              "      <td>204.5</td>\n",
              "    </tr>\n",
              "  </tbody>\n",
              "</table>\n",
              "<p>52608 rows × 1 columns</p>\n",
              "</div><br><label><b>dtype:</b> float64</label>"
            ]
          },
          "metadata": {},
          "execution_count": 6
        }
      ]
    },
    {
      "cell_type": "code",
      "source": [
        "series.expanding().mean()"
      ],
      "metadata": {
        "colab": {
          "base_uri": "https://localhost:8080/",
          "height": 490
        },
        "id": "UK8EzPyEcns_",
        "outputId": "0959d8b8-e5ec-47b6-ed50-340c71f09ebf"
      },
      "execution_count": 7,
      "outputs": [
        {
          "output_type": "execute_result",
          "data": {
            "text/plain": [
              "Datetime\n",
              "2007-10-01 00:00:00      0.000000\n",
              "2007-10-01 01:00:00      0.000000\n",
              "2007-10-01 02:00:00      0.000000\n",
              "2007-10-01 03:00:00      0.000000\n",
              "2007-10-01 04:00:00      0.000000\n",
              "                          ...    \n",
              "2013-09-30 19:00:00    149.795183\n",
              "2013-09-30 20:00:00    149.792335\n",
              "2013-09-30 21:00:00    149.789488\n",
              "2013-09-30 22:00:00    149.786641\n",
              "2013-09-30 23:00:00    149.783793\n",
              "Name: Incoming Solar, Length: 52608, dtype: float64"
            ],
            "text/html": [
              "<div>\n",
              "<style scoped>\n",
              "    .dataframe tbody tr th:only-of-type {\n",
              "        vertical-align: middle;\n",
              "    }\n",
              "\n",
              "    .dataframe tbody tr th {\n",
              "        vertical-align: top;\n",
              "    }\n",
              "\n",
              "    .dataframe thead th {\n",
              "        text-align: right;\n",
              "    }\n",
              "</style>\n",
              "<table border=\"1\" class=\"dataframe\">\n",
              "  <thead>\n",
              "    <tr style=\"text-align: right;\">\n",
              "      <th></th>\n",
              "      <th>Incoming Solar</th>\n",
              "    </tr>\n",
              "    <tr>\n",
              "      <th>Datetime</th>\n",
              "      <th></th>\n",
              "    </tr>\n",
              "  </thead>\n",
              "  <tbody>\n",
              "    <tr>\n",
              "      <th>2007-10-01 00:00:00</th>\n",
              "      <td>0.000000</td>\n",
              "    </tr>\n",
              "    <tr>\n",
              "      <th>2007-10-01 01:00:00</th>\n",
              "      <td>0.000000</td>\n",
              "    </tr>\n",
              "    <tr>\n",
              "      <th>2007-10-01 02:00:00</th>\n",
              "      <td>0.000000</td>\n",
              "    </tr>\n",
              "    <tr>\n",
              "      <th>2007-10-01 03:00:00</th>\n",
              "      <td>0.000000</td>\n",
              "    </tr>\n",
              "    <tr>\n",
              "      <th>2007-10-01 04:00:00</th>\n",
              "      <td>0.000000</td>\n",
              "    </tr>\n",
              "    <tr>\n",
              "      <th>...</th>\n",
              "      <td>...</td>\n",
              "    </tr>\n",
              "    <tr>\n",
              "      <th>2013-09-30 19:00:00</th>\n",
              "      <td>149.795183</td>\n",
              "    </tr>\n",
              "    <tr>\n",
              "      <th>2013-09-30 20:00:00</th>\n",
              "      <td>149.792335</td>\n",
              "    </tr>\n",
              "    <tr>\n",
              "      <th>2013-09-30 21:00:00</th>\n",
              "      <td>149.789488</td>\n",
              "    </tr>\n",
              "    <tr>\n",
              "      <th>2013-09-30 22:00:00</th>\n",
              "      <td>149.786641</td>\n",
              "    </tr>\n",
              "    <tr>\n",
              "      <th>2013-09-30 23:00:00</th>\n",
              "      <td>149.783793</td>\n",
              "    </tr>\n",
              "  </tbody>\n",
              "</table>\n",
              "<p>52608 rows × 1 columns</p>\n",
              "</div><br><label><b>dtype:</b> float64</label>"
            ]
          },
          "metadata": {},
          "execution_count": 7
        }
      ]
    },
    {
      "cell_type": "code",
      "source": [
        "from statsmodels.tsa.arima.model import ARIMA\n",
        "\n",
        "model = ARIMA(series, order=(1,1,1), freq='H')\n",
        "model_fit = model.fit()\n",
        "forecasts = model_fit.predict(start=0, end=5, typ='levels')"
      ],
      "metadata": {
        "colab": {
          "base_uri": "https://localhost:8080/"
        },
        "id": "e5Fs7PHhcsg6",
        "outputId": "3a9aca66-658c-4b57-c8f4-a090f1a9bc67"
      },
      "execution_count": 8,
      "outputs": [
        {
          "output_type": "stream",
          "name": "stderr",
          "text": [
            "/usr/local/lib/python3.12/dist-packages/statsmodels/tsa/base/tsa_model.py:595: FutureWarning: 'H' is deprecated and will be removed in a future version, please use 'h' instead.\n",
            "  freq = to_offset(freq)\n",
            "/usr/local/lib/python3.12/dist-packages/statsmodels/tsa/base/tsa_model.py:473: ValueWarning: No frequency information was provided, so inferred frequency h will be used.\n",
            "  self._init_dates(dates, freq)\n"
          ]
        }
      ]
    },
    {
      "cell_type": "code",
      "source": [
        "type(forecasts)"
      ],
      "metadata": {
        "colab": {
          "base_uri": "https://localhost:8080/",
          "height": 221
        },
        "id": "GERPCa-nhD82",
        "outputId": "178bccba-7b4c-4c62-aeaf-ec3ff69318c8"
      },
      "execution_count": 9,
      "outputs": [
        {
          "output_type": "execute_result",
          "data": {
            "text/plain": [
              "pandas.core.series.Series"
            ],
            "text/html": [
              "<div style=\"max-width:800px; border: 1px solid var(--colab-border-color);\"><style>\n",
              "      pre.function-repr-contents {\n",
              "        overflow-x: auto;\n",
              "        padding: 8px 12px;\n",
              "        max-height: 500px;\n",
              "      }\n",
              "\n",
              "      pre.function-repr-contents.function-repr-contents-collapsed {\n",
              "        cursor: pointer;\n",
              "        max-height: 100px;\n",
              "      }\n",
              "    </style>\n",
              "    <pre style=\"white-space: initial; background:\n",
              "         var(--colab-secondary-surface-color); padding: 8px 12px;\n",
              "         border-bottom: 1px solid var(--colab-border-color);\"><b>pandas.core.series.Series</b><br/>def __init__(data=None, index=None, dtype: Dtype | None=None, name=None, copy: bool | None=None, fastpath: bool | lib.NoDefault=lib.no_default) -&gt; None</pre><pre class=\"function-repr-contents function-repr-contents-collapsed\" style=\"\"><a class=\"filepath\" style=\"display:none\" href=\"#\">/usr/local/lib/python3.12/dist-packages/pandas/core/series.py</a>One-dimensional ndarray with axis labels (including time series).\n",
              "\n",
              "Labels need not be unique but must be a hashable type. The object\n",
              "supports both integer- and label-based indexing and provides a host of\n",
              "methods for performing operations involving the index. Statistical\n",
              "methods from ndarray have been overridden to automatically exclude\n",
              "missing data (currently represented as NaN).\n",
              "\n",
              "Operations between Series (+, -, /, \\*, \\*\\*) align values based on their\n",
              "associated index values-- they need not be the same length. The result\n",
              "index will be the sorted union of the two indexes.\n",
              "\n",
              "Parameters\n",
              "----------\n",
              "data : array-like, Iterable, dict, or scalar value\n",
              "    Contains data stored in Series. If data is a dict, argument order is\n",
              "    maintained.\n",
              "index : array-like or Index (1d)\n",
              "    Values must be hashable and have the same length as `data`.\n",
              "    Non-unique index values are allowed. Will default to\n",
              "    RangeIndex (0, 1, 2, ..., n) if not provided. If data is dict-like\n",
              "    and index is None, then the keys in the data are used as the index. If the\n",
              "    index is not None, the resulting Series is reindexed with the index values.\n",
              "dtype : str, numpy.dtype, or ExtensionDtype, optional\n",
              "    Data type for the output Series. If not specified, this will be\n",
              "    inferred from `data`.\n",
              "    See the :ref:`user guide &lt;basics.dtypes&gt;` for more usages.\n",
              "name : Hashable, default None\n",
              "    The name to give to the Series.\n",
              "copy : bool, default False\n",
              "    Copy input data. Only affects Series or 1d ndarray input. See examples.\n",
              "\n",
              "Notes\n",
              "-----\n",
              "Please reference the :ref:`User Guide &lt;basics.series&gt;` for more information.\n",
              "\n",
              "Examples\n",
              "--------\n",
              "Constructing Series from a dictionary with an Index specified\n",
              "\n",
              "&gt;&gt;&gt; d = {&#x27;a&#x27;: 1, &#x27;b&#x27;: 2, &#x27;c&#x27;: 3}\n",
              "&gt;&gt;&gt; ser = pd.Series(data=d, index=[&#x27;a&#x27;, &#x27;b&#x27;, &#x27;c&#x27;])\n",
              "&gt;&gt;&gt; ser\n",
              "a   1\n",
              "b   2\n",
              "c   3\n",
              "dtype: int64\n",
              "\n",
              "The keys of the dictionary match with the Index values, hence the Index\n",
              "values have no effect.\n",
              "\n",
              "&gt;&gt;&gt; d = {&#x27;a&#x27;: 1, &#x27;b&#x27;: 2, &#x27;c&#x27;: 3}\n",
              "&gt;&gt;&gt; ser = pd.Series(data=d, index=[&#x27;x&#x27;, &#x27;y&#x27;, &#x27;z&#x27;])\n",
              "&gt;&gt;&gt; ser\n",
              "x   NaN\n",
              "y   NaN\n",
              "z   NaN\n",
              "dtype: float64\n",
              "\n",
              "Note that the Index is first build with the keys from the dictionary.\n",
              "After this the Series is reindexed with the given Index values, hence we\n",
              "get all NaN as a result.\n",
              "\n",
              "Constructing Series from a list with `copy=False`.\n",
              "\n",
              "&gt;&gt;&gt; r = [1, 2]\n",
              "&gt;&gt;&gt; ser = pd.Series(r, copy=False)\n",
              "&gt;&gt;&gt; ser.iloc[0] = 999\n",
              "&gt;&gt;&gt; r\n",
              "[1, 2]\n",
              "&gt;&gt;&gt; ser\n",
              "0    999\n",
              "1      2\n",
              "dtype: int64\n",
              "\n",
              "Due to input data type the Series has a `copy` of\n",
              "the original data even though `copy=False`, so\n",
              "the data is unchanged.\n",
              "\n",
              "Constructing Series from a 1d ndarray with `copy=False`.\n",
              "\n",
              "&gt;&gt;&gt; r = np.array([1, 2])\n",
              "&gt;&gt;&gt; ser = pd.Series(r, copy=False)\n",
              "&gt;&gt;&gt; ser.iloc[0] = 999\n",
              "&gt;&gt;&gt; r\n",
              "array([999,   2])\n",
              "&gt;&gt;&gt; ser\n",
              "0    999\n",
              "1      2\n",
              "dtype: int64\n",
              "\n",
              "Due to input data type the Series has a `view` on\n",
              "the original data, so\n",
              "the data is changed as well.</pre>\n",
              "      <script>\n",
              "      if (google.colab.kernel.accessAllowed && google.colab.files && google.colab.files.view) {\n",
              "        for (const element of document.querySelectorAll('.filepath')) {\n",
              "          element.style.display = 'block'\n",
              "          element.onclick = (event) => {\n",
              "            event.preventDefault();\n",
              "            event.stopPropagation();\n",
              "            google.colab.files.view(element.textContent, 263);\n",
              "          };\n",
              "        }\n",
              "      }\n",
              "      for (const element of document.querySelectorAll('.function-repr-contents')) {\n",
              "        element.onclick = (event) => {\n",
              "          event.preventDefault();\n",
              "          event.stopPropagation();\n",
              "          element.classList.toggle('function-repr-contents-collapsed');\n",
              "        };\n",
              "      }\n",
              "      </script>\n",
              "      </div>"
            ]
          },
          "metadata": {},
          "execution_count": 9
        }
      ]
    },
    {
      "cell_type": "code",
      "source": [
        "forecasts"
      ],
      "metadata": {
        "colab": {
          "base_uri": "https://localhost:8080/",
          "height": 272
        },
        "id": "f1IH8A60h5T5",
        "outputId": "41f69f20-57e7-4ba3-cbd1-899a5b340007"
      },
      "execution_count": 10,
      "outputs": [
        {
          "output_type": "execute_result",
          "data": {
            "text/plain": [
              "2007-10-01 00:00:00    0.0\n",
              "2007-10-01 01:00:00    0.0\n",
              "2007-10-01 02:00:00    0.0\n",
              "2007-10-01 03:00:00    0.0\n",
              "2007-10-01 04:00:00    0.0\n",
              "2007-10-01 05:00:00    0.0\n",
              "Freq: h, Name: predicted_mean, dtype: float64"
            ],
            "text/html": [
              "<div>\n",
              "<style scoped>\n",
              "    .dataframe tbody tr th:only-of-type {\n",
              "        vertical-align: middle;\n",
              "    }\n",
              "\n",
              "    .dataframe tbody tr th {\n",
              "        vertical-align: top;\n",
              "    }\n",
              "\n",
              "    .dataframe thead th {\n",
              "        text-align: right;\n",
              "    }\n",
              "</style>\n",
              "<table border=\"1\" class=\"dataframe\">\n",
              "  <thead>\n",
              "    <tr style=\"text-align: right;\">\n",
              "      <th></th>\n",
              "      <th>predicted_mean</th>\n",
              "    </tr>\n",
              "  </thead>\n",
              "  <tbody>\n",
              "    <tr>\n",
              "      <th>2007-10-01 00:00:00</th>\n",
              "      <td>0.0</td>\n",
              "    </tr>\n",
              "    <tr>\n",
              "      <th>2007-10-01 01:00:00</th>\n",
              "      <td>0.0</td>\n",
              "    </tr>\n",
              "    <tr>\n",
              "      <th>2007-10-01 02:00:00</th>\n",
              "      <td>0.0</td>\n",
              "    </tr>\n",
              "    <tr>\n",
              "      <th>2007-10-01 03:00:00</th>\n",
              "      <td>0.0</td>\n",
              "    </tr>\n",
              "    <tr>\n",
              "      <th>2007-10-01 04:00:00</th>\n",
              "      <td>0.0</td>\n",
              "    </tr>\n",
              "    <tr>\n",
              "      <th>2007-10-01 05:00:00</th>\n",
              "      <td>0.0</td>\n",
              "    </tr>\n",
              "  </tbody>\n",
              "</table>\n",
              "</div><br><label><b>dtype:</b> float64</label>"
            ]
          },
          "metadata": {},
          "execution_count": 10
        }
      ]
    },
    {
      "cell_type": "code",
      "source": [
        "def series_to_supervised(data, n_in=1, n_out=1, dropnan=True):\n",
        "  n_vars = 1 if len(data.shape) == 1 else data.shape[1]\n",
        "  df = pd.DataFrame(data)\n",
        "  cols, names = list(), list()\n",
        "\n",
        "  for i in range(n_in, 0, -1):\n",
        "    cols.append(df.shift(i))\n",
        "    names += [('var%d(t-%d)' % (j + 1, i)) for j in range(n_vars)]\n",
        "\n",
        "  for i in range(0, n_out):\n",
        "    cols.append(df.shift(-i))\n",
        "    if i == 0:\n",
        "      names += [('var%d(t)' % (j + 1)) for j in range(n_vars)]\n",
        "    else:\n",
        "      names += [('var%d(t+%d)' % (j + 1, i)) for j in range(n_vars)]\n",
        "\n",
        "  agg = pd.concat(cols, axis=1)\n",
        "  agg.columns = names\n",
        "\n",
        "  if dropnan:\n",
        "    agg.dropna(inplace=True)\n",
        "\n",
        "  return agg\n",
        "\n",
        "data = series_to_supervised(series, 3)\n",
        "print(data[10:20])"
      ],
      "metadata": {
        "colab": {
          "base_uri": "https://localhost:8080/"
        },
        "id": "MQSEaJsdh7uO",
        "outputId": "df0ef62b-192f-499d-ee22-e72e42bf6c21"
      },
      "execution_count": 11,
      "outputs": [
        {
          "output_type": "stream",
          "name": "stdout",
          "text": [
            "                     var1(t-3)  var1(t-2)  var1(t-1)  var1(t)\n",
            "Datetime                                                     \n",
            "2007-10-01 13:00:00       63.8       99.4      174.5    157.9\n",
            "2007-10-01 14:00:00       99.4      174.5      157.9    345.8\n",
            "2007-10-01 15:00:00      174.5      157.9      345.8    329.8\n",
            "2007-10-01 16:00:00      157.9      345.8      329.8    114.6\n",
            "2007-10-01 17:00:00      345.8      329.8      114.6     29.9\n",
            "2007-10-01 18:00:00      329.8      114.6       29.9     10.9\n",
            "2007-10-01 19:00:00      114.6       29.9       10.9      0.0\n",
            "2007-10-01 20:00:00       29.9       10.9        0.0      0.0\n",
            "2007-10-01 21:00:00       10.9        0.0        0.0      0.0\n",
            "2007-10-01 22:00:00        0.0        0.0        0.0      0.0\n"
          ]
        }
      ]
    },
    {
      "cell_type": "markdown",
      "source": [
        "### Univariate forecasting with a feedforward neural network"
      ],
      "metadata": {
        "id": "JijYrM9RvF-H"
      }
    },
    {
      "cell_type": "code",
      "source": [
        "series = series.resample('D').sum()"
      ],
      "metadata": {
        "id": "UrbzUxsZp8_2"
      },
      "execution_count": 12,
      "outputs": []
    },
    {
      "cell_type": "code",
      "source": [
        "from sklearn.model_selection import train_test_split\n",
        "from sklearn.preprocessing import MinMaxScaler\n",
        "import torch\n",
        "\n",
        "scaler = MinMaxScaler(feature_range=(-1, 1))\n",
        "train, test = train_test_split(data, test_size=0.2, shuffle=False)\n",
        "train = scaler.fit_transform(train)\n",
        "test = scaler.transform(test)\n",
        "\n",
        "X_train, y_train = train[:, :-1], train[:, -1]\n",
        "X_test, y_test = test[:, :-1], test[:, -1]\n",
        "\n",
        "X_train = torch.from_numpy(X_train).type(torch.Tensor)\n",
        "y_train = torch.from_numpy(y_train).type(torch.Tensor)\n",
        "X_test = torch.from_numpy(X_test).type(torch.Tensor)\n",
        "y_test = torch.from_numpy(y_test).type(torch.Tensor)"
      ],
      "metadata": {
        "id": "8pcRvguFvCA3"
      },
      "execution_count": 13,
      "outputs": []
    },
    {
      "cell_type": "code",
      "source": [
        "import torch.nn as nn\n",
        "\n",
        "class FeedForwardNN(nn.Module):\n",
        "  def __init__(self, input_dim, hidden_dim, output_dim):\n",
        "    super(FeedForwardNN, self).__init__()\n",
        "    self.fc1 = nn.Linear(input_dim, hidden_dim)\n",
        "    self.fc2 = nn.Linear(hidden_dim, output_dim)\n",
        "    self.activation = nn.ReLU()\n",
        "  def forward(self, x):\n",
        "    out = self.activation(self.fc1(x))\n",
        "    out = self.fc2(out)\n",
        "    return out\n",
        "\n",
        "model = FeedForwardNN(input_dim=X_train.shape[1],\n",
        "hidden_dim=32,\n",
        "output_dim=1)"
      ],
      "metadata": {
        "id": "J6YImoDZvwXi"
      },
      "execution_count": 14,
      "outputs": []
    },
    {
      "cell_type": "code",
      "source": [
        "loss_fn = nn.MSELoss()\n",
        "optimizer = torch.optim.Adam(model.parameters(), lr=0.001)\n",
        "epochs = 200\n",
        "\n",
        "for epoch in range(epochs):\n",
        "  model.train()\n",
        "  optimizer.zero_grad()\n",
        "  out = model(X_train).reshape(-1,)\n",
        "  loss = loss_fn(out, y_train)\n",
        "  loss.backward()\n",
        "  optimizer.step()\n",
        "  if epoch % 10 == 0:\n",
        "    print(f\"Epoch: {epoch}, Loss: {loss.item()}\")"
      ],
      "metadata": {
        "colab": {
          "base_uri": "https://localhost:8080/"
        },
        "id": "ZlCLu2PSv8xu",
        "outputId": "fdeaf376-624b-4d6d-96f0-9073f4e0d116"
      },
      "execution_count": 15,
      "outputs": [
        {
          "output_type": "stream",
          "name": "stdout",
          "text": [
            "Epoch: 0, Loss: 1.05197012424469\n",
            "Epoch: 10, Loss: 0.7371256947517395\n",
            "Epoch: 20, Loss: 0.4962281584739685\n",
            "Epoch: 30, Loss: 0.3252710700035095\n",
            "Epoch: 40, Loss: 0.21436089277267456\n",
            "Epoch: 50, Loss: 0.1503293216228485\n",
            "Epoch: 60, Loss: 0.11844324320554733\n",
            "Epoch: 70, Loss: 0.10473445057868958\n",
            "Epoch: 80, Loss: 0.09870074689388275\n",
            "Epoch: 90, Loss: 0.09455855935811996\n",
            "Epoch: 100, Loss: 0.09056111425161362\n",
            "Epoch: 110, Loss: 0.08677086234092712\n",
            "Epoch: 120, Loss: 0.083041250705719\n",
            "Epoch: 130, Loss: 0.07935125380754471\n",
            "Epoch: 140, Loss: 0.07570845633745193\n",
            "Epoch: 150, Loss: 0.07214576750993729\n",
            "Epoch: 160, Loss: 0.06868678331375122\n",
            "Epoch: 170, Loss: 0.06533050537109375\n",
            "Epoch: 180, Loss: 0.062120433896780014\n",
            "Epoch: 190, Loss: 0.059105899184942245\n"
          ]
        }
      ]
    },
    {
      "cell_type": "code",
      "source": [
        "model.eval()\n",
        "y_pred = model(X_test).reshape(-1,)\n",
        "test_loss = loss_fn(y_pred, y_test)\n",
        "print(f\"Test Loss: {test_loss.item()}\")"
      ],
      "metadata": {
        "colab": {
          "base_uri": "https://localhost:8080/"
        },
        "id": "XqEcIcj5wCTA",
        "outputId": "4d4caddb-31b5-4183-de57-a4aa763da72e"
      },
      "execution_count": 16,
      "outputs": [
        {
          "output_type": "stream",
          "name": "stdout",
          "text": [
            "Test Loss: 0.06001007929444313\n"
          ]
        }
      ]
    },
    {
      "cell_type": "code",
      "source": [
        "X_train = X_train.view([X_train.shape[0], X_train.shape[1], 1])\n",
        "X_test = X_test.view([X_test.shape[0], X_test.shape[1], 1])"
      ],
      "metadata": {
        "id": "Jl9Kzt1awG0o"
      },
      "execution_count": 17,
      "outputs": []
    },
    {
      "cell_type": "code",
      "source": [
        "class LSTM(nn.Module):\n",
        "    def __init__(self, input_dim, hidden_dim, num_layers, output_dim):\n",
        "        super(LSTM, self).__init__()\n",
        "        self.hidden_dim = hidden_dim\n",
        "        self.num_layers = num_layers\n",
        "        self.lstm = nn.LSTM(input_dim, hidden_dim, num_layers, batch_first=True)\n",
        "        self.fc = nn.Linear(hidden_dim, output_dim)\n",
        "\n",
        "    def forward(self, x):\n",
        "        h0 = torch.zeros(self.num_layers, x.size(0), self.hidden_dim)\n",
        "        c0 = torch.zeros(self.num_layers, x.size(0), self.hidden_dim)\n",
        "        out, (hn, cn) = self.lstm(x, (h0.detach(), c0.detach()))\n",
        "        out = self.fc(out[:, -1, :])\n",
        "\n",
        "        return out\n",
        "\n",
        "\n",
        "model = LSTM(input_dim=1,\n",
        "             hidden_dim=32,\n",
        "             output_dim=1,\n",
        "             num_layers=1)"
      ],
      "metadata": {
        "id": "BFRduhlcwpJU"
      },
      "execution_count": 18,
      "outputs": []
    },
    {
      "cell_type": "code",
      "source": [
        "loss_fn = nn.MSELoss()\n",
        "optimizer = torch.optim.Adam(model.parameters(), lr=0.001)"
      ],
      "metadata": {
        "id": "SBWkoeaUzQ6q"
      },
      "execution_count": 19,
      "outputs": []
    },
    {
      "cell_type": "code",
      "source": [
        "epochs = 200\n",
        "\n",
        "for epoch in range(epochs):\n",
        "    model.train()\n",
        "    optimizer.zero_grad()\n",
        "\n",
        "    out = model(X_train).reshape(-1, )\n",
        "    loss = loss_fn(out, y_train)\n",
        "    loss.backward()\n",
        "    optimizer.step()\n",
        "\n",
        "    if epoch % 10 == 0:\n",
        "        print(f\"Epoch: {epoch}, Loss: {loss.item()}\")"
      ],
      "metadata": {
        "colab": {
          "base_uri": "https://localhost:8080/"
        },
        "id": "CEtr1ZopwynR",
        "outputId": "e847d9cf-4650-4cd3-b0b0-039e51b1f3c5"
      },
      "execution_count": 20,
      "outputs": [
        {
          "output_type": "stream",
          "name": "stdout",
          "text": [
            "Epoch: 0, Loss: 0.7383361458778381\n",
            "Epoch: 10, Loss: 0.6016860604286194\n",
            "Epoch: 20, Loss: 0.4617091715335846\n",
            "Epoch: 30, Loss: 0.3169509470462799\n",
            "Epoch: 40, Loss: 0.19005601108074188\n",
            "Epoch: 50, Loss: 0.13287343084812164\n",
            "Epoch: 60, Loss: 0.13595227897167206\n",
            "Epoch: 70, Loss: 0.12684199213981628\n",
            "Epoch: 80, Loss: 0.12227610498666763\n",
            "Epoch: 90, Loss: 0.11879591643810272\n",
            "Epoch: 100, Loss: 0.11514713615179062\n",
            "Epoch: 110, Loss: 0.11212421953678131\n",
            "Epoch: 120, Loss: 0.1092500388622284\n",
            "Epoch: 130, Loss: 0.10668356716632843\n",
            "Epoch: 140, Loss: 0.10433903336524963\n",
            "Epoch: 150, Loss: 0.1022111028432846\n",
            "Epoch: 160, Loss: 0.10025656223297119\n",
            "Epoch: 170, Loss: 0.09842877089977264\n",
            "Epoch: 180, Loss: 0.09667393565177917\n",
            "Epoch: 190, Loss: 0.09493813663721085\n"
          ]
        }
      ]
    },
    {
      "cell_type": "code",
      "source": [
        "model.eval()\n",
        "y_pred = model(X_test)\n",
        "test_loss = loss_fn(y_pred, y_test)\n",
        "print(f\"Test Loss: {test_loss.item()}\")"
      ],
      "metadata": {
        "colab": {
          "base_uri": "https://localhost:8080/"
        },
        "id": "tR4zZLylw9Qw",
        "outputId": "c40a1984-62f7-4914-dc58-0c0372c86bef"
      },
      "execution_count": 21,
      "outputs": [
        {
          "output_type": "stream",
          "name": "stderr",
          "text": [
            "/usr/local/lib/python3.12/dist-packages/torch/nn/modules/loss.py:616: UserWarning: Using a target size (torch.Size([10521])) that is different to the input size (torch.Size([10521, 1])). This will likely lead to incorrect results due to broadcasting. Please ensure they have the same size.\n",
            "  return F.mse_loss(input, target, reduction=self.reduction)\n"
          ]
        },
        {
          "output_type": "stream",
          "name": "stdout",
          "text": [
            "Test Loss: 0.37564703822135925\n"
          ]
        }
      ]
    },
    {
      "cell_type": "markdown",
      "source": [
        "### Univariate forecasting with a GRU"
      ],
      "metadata": {
        "id": "0R4r2FOl0XwD"
      }
    },
    {
      "cell_type": "code",
      "source": [
        "X_train = X_train.view([X_train.shape[0], X_train.shape[1], 1])\n",
        "X_test = X_test.view([X_test.shape[0], X_test.shape[1], 1])"
      ],
      "metadata": {
        "id": "84xbcU6UxKQk"
      },
      "execution_count": 22,
      "outputs": []
    },
    {
      "cell_type": "code",
      "source": [
        "class GRUNet(nn.Module):\n",
        "    def __init__(self, input_dim, hidden_dim, output_dim=1, num_layers=2):\n",
        "        super(GRUNet, self).__init__()\n",
        "        self.hidden_dim = hidden_dim\n",
        "        self.num_layers = num_layers\n",
        "\n",
        "        self.gru = nn.GRU(input_dim, hidden_dim, num_layers, batch_first=True)\n",
        "        self.fc = nn.Linear(hidden_dim, output_dim)\n",
        "\n",
        "    def forward(self, x):\n",
        "        h0 = torch.zeros(self.num_layers, x.size(0), self.hidden_dim).to(x.device)\n",
        "        out, _ = self.gru(x, h0)\n",
        "        out = self.fc(out[:, -1, :])\n",
        "        return out\n",
        "\n",
        "\n",
        "model = GRUNet(input_dim=1,\n",
        "               hidden_dim=32,\n",
        "               output_dim=1,\n",
        "               num_layers=1)"
      ],
      "metadata": {
        "id": "2vf5dbFY0b9x"
      },
      "execution_count": 23,
      "outputs": []
    },
    {
      "cell_type": "code",
      "source": [
        "loss_fn = nn.MSELoss()\n",
        "optimizer = torch.optim.Adam(model.parameters(), lr=0.001)"
      ],
      "metadata": {
        "id": "rMD586K10rRN"
      },
      "execution_count": 24,
      "outputs": []
    },
    {
      "cell_type": "code",
      "source": [
        "epochs = 200\n",
        "\n",
        "for epoch in range(epochs):\n",
        "    model.train()\n",
        "    optimizer.zero_grad()\n",
        "\n",
        "    out = model(X_train).reshape(-1, )\n",
        "    loss = loss_fn(out, y_train)\n",
        "    loss.backward()\n",
        "    optimizer.step()\n",
        "\n",
        "    if epoch % 10 == 0:\n",
        "        print(f\"Epoch: {epoch}, Loss: {loss.item()}\")"
      ],
      "metadata": {
        "id": "nIjolwXQ1Q0o",
        "outputId": "30a41cda-81d6-4a10-f12e-404f340ae330",
        "colab": {
          "base_uri": "https://localhost:8080/"
        }
      },
      "execution_count": 25,
      "outputs": [
        {
          "output_type": "stream",
          "name": "stdout",
          "text": [
            "Epoch: 0, Loss: 0.894960343837738\n",
            "Epoch: 10, Loss: 0.6935935020446777\n",
            "Epoch: 20, Loss: 0.5026469826698303\n",
            "Epoch: 30, Loss: 0.3217230439186096\n",
            "Epoch: 40, Loss: 0.17694653570652008\n",
            "Epoch: 50, Loss: 0.1190042495727539\n",
            "Epoch: 60, Loss: 0.12290085852146149\n",
            "Epoch: 70, Loss: 0.11313840001821518\n",
            "Epoch: 80, Loss: 0.10876589268445969\n",
            "Epoch: 90, Loss: 0.10563357919454575\n",
            "Epoch: 100, Loss: 0.10232992470264435\n",
            "Epoch: 110, Loss: 0.09970999509096146\n",
            "Epoch: 120, Loss: 0.0972246453166008\n",
            "Epoch: 130, Loss: 0.09500764310359955\n",
            "Epoch: 140, Loss: 0.09294906258583069\n",
            "Epoch: 150, Loss: 0.09102579206228256\n",
            "Epoch: 160, Loss: 0.08918849378824234\n",
            "Epoch: 170, Loss: 0.08739951252937317\n",
            "Epoch: 180, Loss: 0.08562180399894714\n",
            "Epoch: 190, Loss: 0.08382748812437057\n"
          ]
        }
      ]
    },
    {
      "cell_type": "code",
      "source": [
        "model.eval()\n",
        "y_pred = model(X_test).reshape(-1, )\n",
        "test_loss = loss_fn(y_pred, y_test)\n",
        "print(f\"Test Loss: {test_loss.item()}\")"
      ],
      "metadata": {
        "id": "fYvwpO3b1Zwd",
        "outputId": "7cde7835-c747-4686-9043-dbd92a11ddb2",
        "colab": {
          "base_uri": "https://localhost:8080/"
        }
      },
      "execution_count": 26,
      "outputs": [
        {
          "output_type": "stream",
          "name": "stdout",
          "text": [
            "Test Loss: 0.09121344983577728\n"
          ]
        }
      ]
    },
    {
      "cell_type": "markdown",
      "source": [
        "### Univariate forecasting with a Stacked LSTM"
      ],
      "metadata": {
        "id": "XudhG2IK2jk8"
      }
    },
    {
      "cell_type": "code",
      "source": [
        "X_train = X_train.view([X_train.shape[0], X_train.shape[1], 1])\n",
        "X_test = X_test.view([X_test.shape[0], X_test.shape[1], 1])"
      ],
      "metadata": {
        "id": "2W9cJ_BT2i81"
      },
      "execution_count": 27,
      "outputs": []
    },
    {
      "cell_type": "code",
      "source": [
        "class StackedLSTM(nn.Module):\n",
        "    def __init__(self, input_dim, hidden_dim, output_dim=1, num_layers=2):\n",
        "        super(StackedLSTM, self).__init__()\n",
        "        self.hidden_dim = hidden_dim\n",
        "        self.num_layers = num_layers\n",
        "\n",
        "        self.lstm = nn.LSTM(input_dim, hidden_dim, num_layers, batch_first=True)\n",
        "        self.fc = nn.Linear(hidden_dim, output_dim)\n",
        "\n",
        "    def forward(self, x):\n",
        "        h0 = torch.zeros(self.num_layers, x.size(0), self.hidden_dim).to(x.device)\n",
        "        c0 = torch.zeros(self.num_layers, x.size(0), self.hidden_dim).to(x.device)\n",
        "\n",
        "        out, _ = self.lstm(x, (h0, c0))\n",
        "        out = self.fc(out[:, -1, :])\n",
        "        return out\n",
        "\n",
        "\n",
        "model = StackedLSTM(input_dim=1, hidden_dim=32, output_dim=1, num_layers=2)"
      ],
      "metadata": {
        "id": "wIUiDMue2nLj"
      },
      "execution_count": 28,
      "outputs": []
    },
    {
      "cell_type": "code",
      "source": [
        "loss_fn = nn.MSELoss()\n",
        "optimizer = torch.optim.Adam(model.parameters(), lr=0.001)"
      ],
      "metadata": {
        "id": "tyu0QasW2xeM"
      },
      "execution_count": 29,
      "outputs": []
    },
    {
      "cell_type": "code",
      "source": [
        "epochs = 200\n",
        "\n",
        "for epoch in range(epochs):\n",
        "    model.train()\n",
        "    optimizer.zero_grad()\n",
        "\n",
        "    out = model(X_train).reshape(-1,)\n",
        "    loss = loss_fn(out, y_train)\n",
        "    loss.backward()\n",
        "    optimizer.step()\n",
        "\n",
        "    if epoch % 10 == 0:\n",
        "        print(f\"Epoch: {epoch}, Loss: {loss.item()}\")"
      ],
      "metadata": {
        "id": "iJMkNU742y6v",
        "outputId": "ebe17cf3-225e-465d-c760-20e2bcdabc16",
        "colab": {
          "base_uri": "https://localhost:8080/"
        }
      },
      "execution_count": 30,
      "outputs": [
        {
          "output_type": "stream",
          "name": "stdout",
          "text": [
            "Epoch: 0, Loss: 0.5322158932685852\n",
            "Epoch: 10, Loss: 0.4001336097717285\n",
            "Epoch: 20, Loss: 0.2815380096435547\n",
            "Epoch: 30, Loss: 0.20342789590358734\n",
            "Epoch: 40, Loss: 0.20102721452713013\n",
            "Epoch: 50, Loss: 0.18127912282943726\n",
            "Epoch: 60, Loss: 0.1695481687784195\n",
            "Epoch: 70, Loss: 0.1551777869462967\n",
            "Epoch: 80, Loss: 0.14221082627773285\n",
            "Epoch: 90, Loss: 0.13095837831497192\n",
            "Epoch: 100, Loss: 0.12242501229047775\n",
            "Epoch: 110, Loss: 0.11685501784086227\n",
            "Epoch: 120, Loss: 0.11324470490217209\n",
            "Epoch: 130, Loss: 0.11009349673986435\n",
            "Epoch: 140, Loss: 0.10650099068880081\n",
            "Epoch: 150, Loss: 0.10225886106491089\n",
            "Epoch: 160, Loss: 0.0972350686788559\n",
            "Epoch: 170, Loss: 0.09115639328956604\n",
            "Epoch: 180, Loss: 0.08367964625358582\n",
            "Epoch: 190, Loss: 0.07447908818721771\n"
          ]
        }
      ]
    },
    {
      "cell_type": "code",
      "source": [
        "model.eval()\n",
        "y_pred = model(X_test).reshape(-1,)\n",
        "test_loss = loss_fn(y_pred, y_test)\n",
        "print(f\"Test Loss: {test_loss.item()}\")"
      ],
      "metadata": {
        "id": "Z2kYr1CA21Aq",
        "outputId": "1f9e449f-c391-499f-d2ed-ec1b97b18126",
        "colab": {
          "base_uri": "https://localhost:8080/"
        }
      },
      "execution_count": 31,
      "outputs": [
        {
          "output_type": "stream",
          "name": "stdout",
          "text": [
            "Test Loss: 0.07011934369802475\n"
          ]
        }
      ]
    },
    {
      "cell_type": "markdown",
      "source": [
        "### Combining an LSTM with multiple fully connected layers"
      ],
      "metadata": {
        "id": "K0_UFJUB3WaU"
      }
    },
    {
      "cell_type": "code",
      "source": [
        "class HybridLSTM(nn.Module):\n",
        "    def __init__(self, input_dim, hidden_dim, output_dim=1, num_layers=1):\n",
        "        super(HybridLSTM, self).__init__()\n",
        "        self.hidden_dim = hidden_dim\n",
        "        self.num_layers = num_layers\n",
        "\n",
        "        self.lstm = nn.LSTM(input_dim, hidden_dim, num_layers, batch_first=True)\n",
        "        self.fc1 = nn.Linear(hidden_dim, 50)\n",
        "        self.fc2 = nn.Linear(50, output_dim)\n",
        "\n",
        "    def forward(self, x):\n",
        "        h0 = torch.zeros(self.num_layers, x.size(0), self.hidden_dim).to(x.device)\n",
        "        c0 = torch.zeros(self.num_layers, x.size(0), self.hidden_dim).to(x.device)\n",
        "\n",
        "        out, _ = self.lstm(x, (h0, c0))\n",
        "        out = F.relu(self.fc1(out[:, -1, :]))\n",
        "        out = self.fc2(out)\n",
        "        return out\n",
        "\n",
        "\n",
        "model = HybridLSTM(input_dim=1, hidden_dim=32, output_dim=1, num_layers=1)"
      ],
      "metadata": {
        "id": "ix3IIxO04fET"
      },
      "execution_count": 39,
      "outputs": []
    },
    {
      "cell_type": "code",
      "source": [
        "loss_fn = nn.MSELoss()\n",
        "optimizer = torch.optim.Adam(model.parameters(), lr=0.001)"
      ],
      "metadata": {
        "id": "C45VtlYi4k--"
      },
      "execution_count": 40,
      "outputs": []
    },
    {
      "cell_type": "code",
      "source": [
        "epochs = 200\n",
        "\n",
        "for epoch in range(epochs):\n",
        "    model.train()\n",
        "    optimizer.zero_grad()\n",
        "\n",
        "    out = model(X_train).reshape(-1, )\n",
        "    loss = loss_fn(out, y_train)\n",
        "    loss.backward()\n",
        "    optimizer.step()\n",
        "\n",
        "    if epoch % 10 == 0:\n",
        "        print(f\"Epoch: {epoch}, Loss: {loss.item()}\")"
      ],
      "metadata": {
        "id": "oPDdabwJ4lmI",
        "outputId": "82347268-f66d-490b-f697-42ad9127ebba",
        "colab": {
          "base_uri": "https://localhost:8080/"
        }
      },
      "execution_count": 41,
      "outputs": [
        {
          "output_type": "stream",
          "name": "stdout",
          "text": [
            "Epoch: 0, Loss: 0.8335340023040771\n",
            "Epoch: 10, Loss: 0.651729941368103\n",
            "Epoch: 20, Loss: 0.4640769064426422\n",
            "Epoch: 30, Loss: 0.282352089881897\n",
            "Epoch: 40, Loss: 0.16286718845367432\n",
            "Epoch: 50, Loss: 0.1632995754480362\n",
            "Epoch: 60, Loss: 0.14388905465602875\n",
            "Epoch: 70, Loss: 0.13604144752025604\n",
            "Epoch: 80, Loss: 0.1262313425540924\n",
            "Epoch: 90, Loss: 0.1180846095085144\n",
            "Epoch: 100, Loss: 0.1103154867887497\n",
            "Epoch: 110, Loss: 0.10406220704317093\n",
            "Epoch: 120, Loss: 0.09932505339384079\n",
            "Epoch: 130, Loss: 0.0956396833062172\n",
            "Epoch: 140, Loss: 0.09228350967168808\n",
            "Epoch: 150, Loss: 0.08870767802000046\n",
            "Epoch: 160, Loss: 0.08472743630409241\n",
            "Epoch: 170, Loss: 0.08026724308729172\n",
            "Epoch: 180, Loss: 0.07531729340553284\n",
            "Epoch: 190, Loss: 0.06987054646015167\n"
          ]
        }
      ]
    },
    {
      "cell_type": "code",
      "source": [
        "model.eval()\n",
        "y_pred = model(X_test).reshape(-1, )\n",
        "test_loss = loss_fn(y_pred, y_test)\n",
        "print(f\"Test Loss: {test_loss.item()}\")"
      ],
      "metadata": {
        "id": "77fK6gm54nrG",
        "outputId": "2fe86503-4973-4b04-a0d7-4e7ba272f784",
        "colab": {
          "base_uri": "https://localhost:8080/"
        }
      },
      "execution_count": 42,
      "outputs": [
        {
          "output_type": "stream",
          "name": "stdout",
          "text": [
            "Test Loss: 0.07092920690774918\n"
          ]
        }
      ]
    },
    {
      "cell_type": "markdown",
      "source": [
        "### Univariate forecasting with a CNN"
      ],
      "metadata": {
        "id": "PX5S0mXM4EvL"
      }
    },
    {
      "cell_type": "code",
      "source": [
        "import torch.nn.functional as F\n",
        "\n",
        "class CNNTimeseries(nn.Module):\n",
        "    def __init__(self, input_dim, output_dim=1):\n",
        "        super(CNNTimeseries, self).__init__()\n",
        "\n",
        "        self.conv1 = nn.Conv1d(in_channels=input_dim,\n",
        "                               out_channels=64,\n",
        "                               kernel_size=3,\n",
        "                               stride=1,\n",
        "                               padding=1)\n",
        "        self.fc = nn.Linear(in_features=64,\n",
        "                            out_features=output_dim)\n",
        "\n",
        "    def forward(self, x):\n",
        "        x = F.relu(self.conv1(x))\n",
        "        x = x.view(x.size(0), -1)\n",
        "        x = self.fc(x)\n",
        "        return x\n",
        "\n",
        "\n",
        "model = CNNTimeseries(input_dim=3, output_dim=1)"
      ],
      "metadata": {
        "id": "eoF7RJ1K22lO"
      },
      "execution_count": 35,
      "outputs": []
    },
    {
      "cell_type": "code",
      "source": [
        "loss_fn = nn.MSELoss()\n",
        "optimizer = torch.optim.Adam(model.parameters(), lr=0.001)"
      ],
      "metadata": {
        "id": "g6DQd3gU3g_i"
      },
      "execution_count": 36,
      "outputs": []
    },
    {
      "cell_type": "code",
      "source": [
        "epochs = 200\n",
        "for epoch in range(epochs):\n",
        "    model.train()\n",
        "    optimizer.zero_grad()\n",
        "    out = model(X_train).reshape(-1, )\n",
        "    loss = loss_fn(out, y_train)\n",
        "    loss.backward()\n",
        "    optimizer.step()"
      ],
      "metadata": {
        "id": "bX6HZsb93jLE"
      },
      "execution_count": 37,
      "outputs": []
    },
    {
      "cell_type": "code",
      "source": [
        "model.eval()\n",
        "y_pred = model(X_test).reshape(-1, )\n",
        "test_loss = loss_fn(y_pred, y_test)\n",
        "print(f\"Test Loss: {test_loss.item()}\")"
      ],
      "metadata": {
        "id": "0-DCaaZa3k26",
        "outputId": "c37e2e79-d6de-41a5-e6de-80ed074aba3e",
        "colab": {
          "base_uri": "https://localhost:8080/"
        }
      },
      "execution_count": 38,
      "outputs": [
        {
          "output_type": "stream",
          "name": "stdout",
          "text": [
            "Test Loss: 0.02887318842113018\n"
          ]
        }
      ]
    },
    {
      "cell_type": "markdown",
      "source": [
        "### Handling trend – taking first differences"
      ],
      "metadata": {
        "id": "Vgl61uMh5ByJ"
      }
    },
    {
      "cell_type": "code",
      "source": [
        "train, test = train_test_split(series, test_size=0.2, shuffle=False)"
      ],
      "metadata": {
        "id": "-xvbiSHF3muL"
      },
      "execution_count": 43,
      "outputs": []
    },
    {
      "cell_type": "code",
      "source": [
        "train_shifted = train.shift(periods=1)\n",
        "train_diff = train - train_shifted\n",
        "\n",
        "test_shifted = test.shift(periods=1)\n",
        "test_diff = test - test_shifted"
      ],
      "metadata": {
        "id": "l37fevEB43-e"
      },
      "execution_count": 48,
      "outputs": []
    },
    {
      "cell_type": "code",
      "source": [
        "scaler = MinMaxScaler(feature_range=(-1, 1))\n",
        "\n",
        "train_diffnorm = scaler.fit_transform(train_diff.values.reshape(-1, 1))\n",
        "test_diffnorm = scaler.transform(test_diff.values.reshape(-1, 1))\n",
        "\n",
        "train_df = series_to_supervised(train_diffnorm, n_in=3, n_out=1).values\n",
        "test_df = series_to_supervised(test_diffnorm, n_in=3, n_out=1).values"
      ],
      "metadata": {
        "id": "P7MVOx_M475K"
      },
      "execution_count": 49,
      "outputs": []
    },
    {
      "cell_type": "code",
      "source": [
        "X_train, y_train = train_df[:, :-1], train_df[:, -1]\n",
        "X_test, y_test = test_df[:, :-1], test_df[:, -1]\n",
        "\n",
        "X_train = torch.from_numpy(X_train).type(torch.Tensor)\n",
        "X_test = torch.from_numpy(X_test).type(torch.Tensor)\n",
        "y_train = torch.from_numpy(y_train).type(torch.Tensor).view(-1)\n",
        "y_test = torch.from_numpy(y_test).type(torch.Tensor).view(-1)\n",
        "\n",
        "X_train = X_train.view([X_train.shape[0], X_train.shape[1], 1])\n",
        "X_test = X_test.view([X_test.shape[0], X_test.shape[1], 1])"
      ],
      "metadata": {
        "id": "ZXPzwzKd4_pO"
      },
      "execution_count": 50,
      "outputs": []
    },
    {
      "cell_type": "code",
      "source": [
        "class LSTM(nn.Module):\n",
        "    def __init__(self, input_dim, hidden_dim, num_layers, output_dim):\n",
        "        super(LSTM, self).__init__()\n",
        "        self.hidden_dim = hidden_dim\n",
        "        self.num_layers = num_layers\n",
        "        self.lstm = nn.LSTM(input_dim, hidden_dim, num_layers, batch_first=True)\n",
        "        self.fc = nn.Linear(hidden_dim, output_dim)\n",
        "\n",
        "    def forward(self, x):\n",
        "        h0 = torch.zeros(self.num_layers, x.size(0), self.hidden_dim).requires_grad_()\n",
        "        c0 = torch.zeros(self.num_layers, x.size(0), self.hidden_dim).requires_grad_()\n",
        "        out, (hn, cn) = self.lstm(x, (h0.detach(), c0.detach()))\n",
        "        out = self.fc(out[:, -1, :])\n",
        "        return out\n",
        "\n",
        "\n",
        "model = LSTM(input_dim=1, hidden_dim=32, output_dim=1, num_layers=2)"
      ],
      "metadata": {
        "id": "r36P8_cA5vwT"
      },
      "execution_count": 51,
      "outputs": []
    },
    {
      "cell_type": "code",
      "source": [
        "loss_fn = nn.MSELoss()\n",
        "optimizer = torch.optim.Adam(model.parameters(), lr=0.001)"
      ],
      "metadata": {
        "id": "gGqeblme50TT"
      },
      "execution_count": 52,
      "outputs": []
    },
    {
      "cell_type": "code",
      "source": [
        "epochs = 200\n",
        "\n",
        "for epoch in range(epochs):\n",
        "    model.train()\n",
        "    optimizer.zero_grad()\n",
        "\n",
        "    out = model(X_train).reshape(-1, )\n",
        "    loss = loss_fn(out, y_train)\n",
        "    loss.backward()\n",
        "    optimizer.step()\n",
        "\n",
        "    if epoch % 10 == 0:\n",
        "        print(f\"Epoch: {epoch}, Loss: {loss.item()}\")"
      ],
      "metadata": {
        "id": "UVwCvgMq52bA",
        "outputId": "e5ba8b6e-1cd1-41a2-cb36-b15121eadacb",
        "colab": {
          "base_uri": "https://localhost:8080/"
        }
      },
      "execution_count": 53,
      "outputs": [
        {
          "output_type": "stream",
          "name": "stdout",
          "text": [
            "Epoch: 0, Loss: 0.06845655292272568\n",
            "Epoch: 10, Loss: 0.06249884143471718\n",
            "Epoch: 20, Loss: 0.0621580071747303\n",
            "Epoch: 30, Loss: 0.061905767768621445\n",
            "Epoch: 40, Loss: 0.061434555798769\n",
            "Epoch: 50, Loss: 0.06094628572463989\n",
            "Epoch: 60, Loss: 0.060253262519836426\n",
            "Epoch: 70, Loss: 0.059232186526060104\n",
            "Epoch: 80, Loss: 0.05777755752205849\n",
            "Epoch: 90, Loss: 0.05594523623585701\n",
            "Epoch: 100, Loss: 0.054018810391426086\n",
            "Epoch: 110, Loss: 0.051720961928367615\n",
            "Epoch: 120, Loss: 0.04987528920173645\n",
            "Epoch: 130, Loss: 0.049732256680727005\n",
            "Epoch: 140, Loss: 0.04945544898509979\n",
            "Epoch: 150, Loss: 0.04931209981441498\n",
            "Epoch: 160, Loss: 0.04917936772108078\n",
            "Epoch: 170, Loss: 0.04905994236469269\n",
            "Epoch: 180, Loss: 0.048950280994176865\n",
            "Epoch: 190, Loss: 0.048845067620277405\n"
          ]
        }
      ]
    },
    {
      "cell_type": "code",
      "source": [
        "model.eval()\n",
        "y_pred = model(X_test).reshape(-1, )\n",
        "\n",
        "y_diff = scaler.inverse_transform(y_pred.detach().numpy().reshape(-1, 1)).flatten()\n",
        "y_original = y_diff + test_shifted.values[4:]\n",
        "\n",
        "np.abs(y_original - test.values[4:]).mean()"
      ],
      "metadata": {
        "id": "VEH6AC-654ib",
        "outputId": "7437924e-e92a-43dc-cc2c-dd9c24efe9bb",
        "colab": {
          "base_uri": "https://localhost:8080/"
        }
      },
      "execution_count": 54,
      "outputs": [
        {
          "output_type": "execute_result",
          "data": {
            "text/plain": [
              "856.2413883977101"
            ]
          },
          "metadata": {},
          "execution_count": 54
        }
      ]
    },
    {
      "cell_type": "markdown",
      "source": [
        "### strona 69"
      ],
      "metadata": {
        "id": "-I8delY96RZb"
      }
    },
    {
      "cell_type": "code",
      "source": [],
      "metadata": {
        "id": "vIys2PCN5-rj"
      },
      "execution_count": null,
      "outputs": []
    }
  ]
}